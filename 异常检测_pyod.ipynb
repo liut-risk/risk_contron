{
 "cells": [
  {
   "cell_type": "code",
   "execution_count": 2,
   "id": "b8c6f183",
   "metadata": {},
   "outputs": [],
   "source": [
    "from pyod.models.knn import KNN   # imprt kNN分类器"
   ]
  },
  {
   "cell_type": "code",
   "execution_count": 3,
   "id": "be8d7308",
   "metadata": {},
   "outputs": [],
   "source": [
    "import pandas as pd"
   ]
  },
  {
   "cell_type": "code",
   "execution_count": 4,
   "id": "5d88686c",
   "metadata": {},
   "outputs": [],
   "source": [
    "df = pd.read_csv(\"data/CC_data/feature.csv\")"
   ]
  },
  {
   "cell_type": "code",
   "execution_count": 5,
   "id": "f9ffe754",
   "metadata": {},
   "outputs": [
    {
     "data": {
      "text/html": [
       "<div>\n",
       "<style scoped>\n",
       "    .dataframe tbody tr th:only-of-type {\n",
       "        vertical-align: middle;\n",
       "    }\n",
       "\n",
       "    .dataframe tbody tr th {\n",
       "        vertical-align: top;\n",
       "    }\n",
       "\n",
       "    .dataframe thead th {\n",
       "        text-align: right;\n",
       "    }\n",
       "</style>\n",
       "<table border=\"1\" class=\"dataframe\">\n",
       "  <thead>\n",
       "    <tr style=\"text-align: right;\">\n",
       "      <th></th>\n",
       "      <th>ip_sum</th>\n",
       "      <th>ip_remote_null</th>\n",
       "      <th>ip_remote_notnull</th>\n",
       "      <th>ip_real_null</th>\n",
       "      <th>ip_real_notnull</th>\n",
       "      <th>ip_forward_null</th>\n",
       "      <th>ip_forward_notnull</th>\n",
       "      <th>ip_remote_real_equal</th>\n",
       "      <th>ip_black_cf</th>\n",
       "      <th>ip_black_waf</th>\n",
       "      <th>...</th>\n",
       "      <th>xss_html_transform_entropy</th>\n",
       "      <th>command_special_char_count</th>\n",
       "      <th>command_special_char_dist</th>\n",
       "      <th>command_special_char_max</th>\n",
       "      <th>command_special_char_min</th>\n",
       "      <th>command_special_char_mean</th>\n",
       "      <th>command_special_char_var</th>\n",
       "      <th>command_special_char_std</th>\n",
       "      <th>command_special_char_entropy</th>\n",
       "      <th>label</th>\n",
       "    </tr>\n",
       "  </thead>\n",
       "  <tbody>\n",
       "    <tr>\n",
       "      <th>0</th>\n",
       "      <td>6</td>\n",
       "      <td>0</td>\n",
       "      <td>6</td>\n",
       "      <td>6</td>\n",
       "      <td>0</td>\n",
       "      <td>0</td>\n",
       "      <td>6</td>\n",
       "      <td>0</td>\n",
       "      <td>0</td>\n",
       "      <td>0</td>\n",
       "      <td>...</td>\n",
       "      <td>1.584963</td>\n",
       "      <td>0.0</td>\n",
       "      <td>1</td>\n",
       "      <td>27.0</td>\n",
       "      <td>27.0</td>\n",
       "      <td>27.0</td>\n",
       "      <td>0.0</td>\n",
       "      <td>0.0</td>\n",
       "      <td>0.0</td>\n",
       "      <td>0</td>\n",
       "    </tr>\n",
       "    <tr>\n",
       "      <th>1</th>\n",
       "      <td>6</td>\n",
       "      <td>0</td>\n",
       "      <td>6</td>\n",
       "      <td>6</td>\n",
       "      <td>0</td>\n",
       "      <td>0</td>\n",
       "      <td>6</td>\n",
       "      <td>0</td>\n",
       "      <td>0</td>\n",
       "      <td>0</td>\n",
       "      <td>...</td>\n",
       "      <td>1.584963</td>\n",
       "      <td>0.0</td>\n",
       "      <td>1</td>\n",
       "      <td>27.0</td>\n",
       "      <td>27.0</td>\n",
       "      <td>27.0</td>\n",
       "      <td>0.0</td>\n",
       "      <td>0.0</td>\n",
       "      <td>0.0</td>\n",
       "      <td>0</td>\n",
       "    </tr>\n",
       "    <tr>\n",
       "      <th>2</th>\n",
       "      <td>1</td>\n",
       "      <td>0</td>\n",
       "      <td>1</td>\n",
       "      <td>1</td>\n",
       "      <td>0</td>\n",
       "      <td>0</td>\n",
       "      <td>1</td>\n",
       "      <td>0</td>\n",
       "      <td>0</td>\n",
       "      <td>0</td>\n",
       "      <td>...</td>\n",
       "      <td>1.000000</td>\n",
       "      <td>0.0</td>\n",
       "      <td>0</td>\n",
       "      <td>0.0</td>\n",
       "      <td>0.0</td>\n",
       "      <td>0.0</td>\n",
       "      <td>0.0</td>\n",
       "      <td>0.0</td>\n",
       "      <td>0.0</td>\n",
       "      <td>0</td>\n",
       "    </tr>\n",
       "    <tr>\n",
       "      <th>3</th>\n",
       "      <td>6</td>\n",
       "      <td>0</td>\n",
       "      <td>6</td>\n",
       "      <td>6</td>\n",
       "      <td>0</td>\n",
       "      <td>0</td>\n",
       "      <td>6</td>\n",
       "      <td>0</td>\n",
       "      <td>0</td>\n",
       "      <td>0</td>\n",
       "      <td>...</td>\n",
       "      <td>1.584963</td>\n",
       "      <td>0.0</td>\n",
       "      <td>1</td>\n",
       "      <td>27.0</td>\n",
       "      <td>27.0</td>\n",
       "      <td>27.0</td>\n",
       "      <td>0.0</td>\n",
       "      <td>0.0</td>\n",
       "      <td>0.0</td>\n",
       "      <td>0</td>\n",
       "    </tr>\n",
       "    <tr>\n",
       "      <th>4</th>\n",
       "      <td>1</td>\n",
       "      <td>0</td>\n",
       "      <td>1</td>\n",
       "      <td>1</td>\n",
       "      <td>0</td>\n",
       "      <td>0</td>\n",
       "      <td>1</td>\n",
       "      <td>0</td>\n",
       "      <td>0</td>\n",
       "      <td>0</td>\n",
       "      <td>...</td>\n",
       "      <td>1.000000</td>\n",
       "      <td>0.0</td>\n",
       "      <td>0</td>\n",
       "      <td>0.0</td>\n",
       "      <td>0.0</td>\n",
       "      <td>0.0</td>\n",
       "      <td>0.0</td>\n",
       "      <td>0.0</td>\n",
       "      <td>0.0</td>\n",
       "      <td>0</td>\n",
       "    </tr>\n",
       "  </tbody>\n",
       "</table>\n",
       "<p>5 rows × 194 columns</p>\n",
       "</div>"
      ],
      "text/plain": [
       "   ip_sum  ip_remote_null  ip_remote_notnull  ip_real_null  ip_real_notnull  \\\n",
       "0       6               0                  6             6                0   \n",
       "1       6               0                  6             6                0   \n",
       "2       1               0                  1             1                0   \n",
       "3       6               0                  6             6                0   \n",
       "4       1               0                  1             1                0   \n",
       "\n",
       "   ip_forward_null  ip_forward_notnull  ip_remote_real_equal  ip_black_cf  \\\n",
       "0                0                   6                     0            0   \n",
       "1                0                   6                     0            0   \n",
       "2                0                   1                     0            0   \n",
       "3                0                   6                     0            0   \n",
       "4                0                   1                     0            0   \n",
       "\n",
       "   ip_black_waf  ...  xss_html_transform_entropy  command_special_char_count  \\\n",
       "0             0  ...                    1.584963                         0.0   \n",
       "1             0  ...                    1.584963                         0.0   \n",
       "2             0  ...                    1.000000                         0.0   \n",
       "3             0  ...                    1.584963                         0.0   \n",
       "4             0  ...                    1.000000                         0.0   \n",
       "\n",
       "   command_special_char_dist  command_special_char_max  \\\n",
       "0                          1                      27.0   \n",
       "1                          1                      27.0   \n",
       "2                          0                       0.0   \n",
       "3                          1                      27.0   \n",
       "4                          0                       0.0   \n",
       "\n",
       "   command_special_char_min  command_special_char_mean  \\\n",
       "0                      27.0                       27.0   \n",
       "1                      27.0                       27.0   \n",
       "2                       0.0                        0.0   \n",
       "3                      27.0                       27.0   \n",
       "4                       0.0                        0.0   \n",
       "\n",
       "   command_special_char_var  command_special_char_std  \\\n",
       "0                       0.0                       0.0   \n",
       "1                       0.0                       0.0   \n",
       "2                       0.0                       0.0   \n",
       "3                       0.0                       0.0   \n",
       "4                       0.0                       0.0   \n",
       "\n",
       "   command_special_char_entropy  label  \n",
       "0                           0.0      0  \n",
       "1                           0.0      0  \n",
       "2                           0.0      0  \n",
       "3                           0.0      0  \n",
       "4                           0.0      0  \n",
       "\n",
       "[5 rows x 194 columns]"
      ]
     },
     "execution_count": 5,
     "metadata": {},
     "output_type": "execute_result"
    }
   ],
   "source": [
    "df.head()"
   ]
  },
  {
   "cell_type": "code",
   "execution_count": 6,
   "id": "83d52824",
   "metadata": {},
   "outputs": [
    {
     "data": {
      "text/plain": [
       "103"
      ]
     },
     "execution_count": 6,
     "metadata": {},
     "output_type": "execute_result"
    }
   ],
   "source": [
    "df.label.sum()"
   ]
  },
  {
   "cell_type": "code",
   "execution_count": 7,
   "id": "2b397a7d",
   "metadata": {},
   "outputs": [
    {
     "data": {
      "text/plain": [
       "(556769, 194)"
      ]
     },
     "execution_count": 7,
     "metadata": {},
     "output_type": "execute_result"
    }
   ],
   "source": [
    "df.shape"
   ]
  },
  {
   "cell_type": "code",
   "execution_count": 8,
   "id": "678cfdd4",
   "metadata": {},
   "outputs": [],
   "source": [
    "x_train = df.drop(['label'],axis=1)"
   ]
  },
  {
   "cell_type": "code",
   "execution_count": 9,
   "id": "571ba079",
   "metadata": {},
   "outputs": [
    {
     "data": {
      "text/plain": [
       "(556769, 193)"
      ]
     },
     "execution_count": 9,
     "metadata": {},
     "output_type": "execute_result"
    }
   ],
   "source": [
    "x_train.shape"
   ]
  },
  {
   "cell_type": "code",
   "execution_count": 10,
   "id": "e4649742",
   "metadata": {},
   "outputs": [
    {
     "data": {
      "text/html": [
       "<div>\n",
       "<style scoped>\n",
       "    .dataframe tbody tr th:only-of-type {\n",
       "        vertical-align: middle;\n",
       "    }\n",
       "\n",
       "    .dataframe tbody tr th {\n",
       "        vertical-align: top;\n",
       "    }\n",
       "\n",
       "    .dataframe thead th {\n",
       "        text-align: right;\n",
       "    }\n",
       "</style>\n",
       "<table border=\"1\" class=\"dataframe\">\n",
       "  <thead>\n",
       "    <tr style=\"text-align: right;\">\n",
       "      <th></th>\n",
       "      <th>ip_sum</th>\n",
       "      <th>ip_remote_null</th>\n",
       "      <th>ip_remote_notnull</th>\n",
       "      <th>ip_real_null</th>\n",
       "      <th>ip_real_notnull</th>\n",
       "      <th>ip_forward_null</th>\n",
       "      <th>ip_forward_notnull</th>\n",
       "      <th>ip_remote_real_equal</th>\n",
       "      <th>ip_black_cf</th>\n",
       "      <th>ip_black_waf</th>\n",
       "      <th>...</th>\n",
       "      <th>xss_html_transform_std</th>\n",
       "      <th>xss_html_transform_entropy</th>\n",
       "      <th>command_special_char_count</th>\n",
       "      <th>command_special_char_dist</th>\n",
       "      <th>command_special_char_max</th>\n",
       "      <th>command_special_char_min</th>\n",
       "      <th>command_special_char_mean</th>\n",
       "      <th>command_special_char_var</th>\n",
       "      <th>command_special_char_std</th>\n",
       "      <th>command_special_char_entropy</th>\n",
       "    </tr>\n",
       "  </thead>\n",
       "  <tbody>\n",
       "    <tr>\n",
       "      <th>0</th>\n",
       "      <td>6</td>\n",
       "      <td>0</td>\n",
       "      <td>6</td>\n",
       "      <td>6</td>\n",
       "      <td>0</td>\n",
       "      <td>0</td>\n",
       "      <td>6</td>\n",
       "      <td>0</td>\n",
       "      <td>0</td>\n",
       "      <td>0</td>\n",
       "      <td>...</td>\n",
       "      <td>14.764823</td>\n",
       "      <td>1.584963</td>\n",
       "      <td>0.0</td>\n",
       "      <td>1</td>\n",
       "      <td>27.0</td>\n",
       "      <td>27.0</td>\n",
       "      <td>27.0</td>\n",
       "      <td>0.0</td>\n",
       "      <td>0.0</td>\n",
       "      <td>0.0</td>\n",
       "    </tr>\n",
       "    <tr>\n",
       "      <th>1</th>\n",
       "      <td>6</td>\n",
       "      <td>0</td>\n",
       "      <td>6</td>\n",
       "      <td>6</td>\n",
       "      <td>0</td>\n",
       "      <td>0</td>\n",
       "      <td>6</td>\n",
       "      <td>0</td>\n",
       "      <td>0</td>\n",
       "      <td>0</td>\n",
       "      <td>...</td>\n",
       "      <td>14.764823</td>\n",
       "      <td>1.584963</td>\n",
       "      <td>0.0</td>\n",
       "      <td>1</td>\n",
       "      <td>27.0</td>\n",
       "      <td>27.0</td>\n",
       "      <td>27.0</td>\n",
       "      <td>0.0</td>\n",
       "      <td>0.0</td>\n",
       "      <td>0.0</td>\n",
       "    </tr>\n",
       "    <tr>\n",
       "      <th>2</th>\n",
       "      <td>1</td>\n",
       "      <td>0</td>\n",
       "      <td>1</td>\n",
       "      <td>1</td>\n",
       "      <td>0</td>\n",
       "      <td>0</td>\n",
       "      <td>1</td>\n",
       "      <td>0</td>\n",
       "      <td>0</td>\n",
       "      <td>0</td>\n",
       "      <td>...</td>\n",
       "      <td>2.000000</td>\n",
       "      <td>1.000000</td>\n",
       "      <td>0.0</td>\n",
       "      <td>0</td>\n",
       "      <td>0.0</td>\n",
       "      <td>0.0</td>\n",
       "      <td>0.0</td>\n",
       "      <td>0.0</td>\n",
       "      <td>0.0</td>\n",
       "      <td>0.0</td>\n",
       "    </tr>\n",
       "    <tr>\n",
       "      <th>3</th>\n",
       "      <td>6</td>\n",
       "      <td>0</td>\n",
       "      <td>6</td>\n",
       "      <td>6</td>\n",
       "      <td>0</td>\n",
       "      <td>0</td>\n",
       "      <td>6</td>\n",
       "      <td>0</td>\n",
       "      <td>0</td>\n",
       "      <td>0</td>\n",
       "      <td>...</td>\n",
       "      <td>14.764823</td>\n",
       "      <td>1.584963</td>\n",
       "      <td>0.0</td>\n",
       "      <td>1</td>\n",
       "      <td>27.0</td>\n",
       "      <td>27.0</td>\n",
       "      <td>27.0</td>\n",
       "      <td>0.0</td>\n",
       "      <td>0.0</td>\n",
       "      <td>0.0</td>\n",
       "    </tr>\n",
       "    <tr>\n",
       "      <th>4</th>\n",
       "      <td>1</td>\n",
       "      <td>0</td>\n",
       "      <td>1</td>\n",
       "      <td>1</td>\n",
       "      <td>0</td>\n",
       "      <td>0</td>\n",
       "      <td>1</td>\n",
       "      <td>0</td>\n",
       "      <td>0</td>\n",
       "      <td>0</td>\n",
       "      <td>...</td>\n",
       "      <td>2.500000</td>\n",
       "      <td>1.000000</td>\n",
       "      <td>0.0</td>\n",
       "      <td>0</td>\n",
       "      <td>0.0</td>\n",
       "      <td>0.0</td>\n",
       "      <td>0.0</td>\n",
       "      <td>0.0</td>\n",
       "      <td>0.0</td>\n",
       "      <td>0.0</td>\n",
       "    </tr>\n",
       "  </tbody>\n",
       "</table>\n",
       "<p>5 rows × 193 columns</p>\n",
       "</div>"
      ],
      "text/plain": [
       "   ip_sum  ip_remote_null  ip_remote_notnull  ip_real_null  ip_real_notnull  \\\n",
       "0       6               0                  6             6                0   \n",
       "1       6               0                  6             6                0   \n",
       "2       1               0                  1             1                0   \n",
       "3       6               0                  6             6                0   \n",
       "4       1               0                  1             1                0   \n",
       "\n",
       "   ip_forward_null  ip_forward_notnull  ip_remote_real_equal  ip_black_cf  \\\n",
       "0                0                   6                     0            0   \n",
       "1                0                   6                     0            0   \n",
       "2                0                   1                     0            0   \n",
       "3                0                   6                     0            0   \n",
       "4                0                   1                     0            0   \n",
       "\n",
       "   ip_black_waf  ...  xss_html_transform_std  xss_html_transform_entropy  \\\n",
       "0             0  ...               14.764823                    1.584963   \n",
       "1             0  ...               14.764823                    1.584963   \n",
       "2             0  ...                2.000000                    1.000000   \n",
       "3             0  ...               14.764823                    1.584963   \n",
       "4             0  ...                2.500000                    1.000000   \n",
       "\n",
       "   command_special_char_count  command_special_char_dist  \\\n",
       "0                         0.0                          1   \n",
       "1                         0.0                          1   \n",
       "2                         0.0                          0   \n",
       "3                         0.0                          1   \n",
       "4                         0.0                          0   \n",
       "\n",
       "   command_special_char_max  command_special_char_min  \\\n",
       "0                      27.0                      27.0   \n",
       "1                      27.0                      27.0   \n",
       "2                       0.0                       0.0   \n",
       "3                      27.0                      27.0   \n",
       "4                       0.0                       0.0   \n",
       "\n",
       "   command_special_char_mean  command_special_char_var  \\\n",
       "0                       27.0                       0.0   \n",
       "1                       27.0                       0.0   \n",
       "2                        0.0                       0.0   \n",
       "3                       27.0                       0.0   \n",
       "4                        0.0                       0.0   \n",
       "\n",
       "   command_special_char_std  command_special_char_entropy  \n",
       "0                       0.0                           0.0  \n",
       "1                       0.0                           0.0  \n",
       "2                       0.0                           0.0  \n",
       "3                       0.0                           0.0  \n",
       "4                       0.0                           0.0  \n",
       "\n",
       "[5 rows x 193 columns]"
      ]
     },
     "execution_count": 10,
     "metadata": {},
     "output_type": "execute_result"
    }
   ],
   "source": [
    "x_train.head()"
   ]
  },
  {
   "cell_type": "code",
   "execution_count": 11,
   "id": "1c60cff6",
   "metadata": {},
   "outputs": [
    {
     "data": {
      "text/plain": [
       "KNN(algorithm='auto', contamination=0.1, leaf_size=30, method='largest',\n",
       "  metric='minkowski', metric_params=None, n_jobs=1, n_neighbors=5, p=2,\n",
       "  radius=1.0)"
      ]
     },
     "execution_count": 11,
     "metadata": {},
     "output_type": "execute_result"
    }
   ],
   "source": [
    "# 训练一个kNN检测器\n",
    "clf_name = 'kNN'\n",
    "clf = KNN() # 初始化检测器clf\n",
    "\n",
    "clf.fit(x_train)"
   ]
  },
  {
   "cell_type": "code",
   "execution_count": 12,
   "id": "b9e385e6",
   "metadata": {},
   "outputs": [],
   "source": [
    "# 返回训练数据X_train上的异常标签和异常分值\n",
    "y_train = df.label\n",
    "y_train_pred = clf.labels_  # 返回训练数据上的分类标签 (0: 正常值, 1: 异常值)\n",
    "y_train_scores = clf.decision_scores_  # 返回训练数据上的异常值 (分值越大越异常)\n",
    "\n",
    "# 用训练好的clf来预测未知数据中的异常值\n",
    "# y_test_pred = clf.predict(X_test)  # 返回未知数据上的分类标签 (0: 正常值, 1: 异常值)\n",
    "# y_test_scores = clf.decision_function(X_test)  #  返回未知数据上的异常值 (分值越大越异常)"
   ]
  },
  {
   "cell_type": "code",
   "execution_count": 13,
   "id": "0f797ae6",
   "metadata": {},
   "outputs": [
    {
     "name": "stdout",
     "output_type": "stream",
     "text": [
      "\n",
      "On Train Data:\n",
      "kNN ROC:0.9557, precision @ rank n:0.0291\n"
     ]
    }
   ],
   "source": [
    "# 评估预测结果\n",
    "from pyod.utils.data import evaluate_print\n",
    "\n",
    "print(\"\\nOn Train Data:\")\n",
    "evaluate_print(clf_name, y_train, y_train_scores)\n",
    "\n",
    "# 可视化\n",
    "# visualize(clf_name, X_train, y_train, X_test, y_test, y_train_pred,\n",
    "#     y_test_pred, show_figure=True, save_figure=False)"
   ]
  },
  {
   "cell_type": "code",
   "execution_count": 14,
   "id": "ec3e9765",
   "metadata": {},
   "outputs": [],
   "source": [
    "# train an ECOD detector\n",
    "from pyod.models.ecod import ECOD\n",
    "clf = ECOD()\n",
    "clf.fit(x_train)\n",
    "\n",
    "# get outlier scores\n",
    "y_train_scores = clf.decision_scores_  # raw outlier scores on the train data"
   ]
  },
  {
   "cell_type": "code",
   "execution_count": 15,
   "id": "0f3a0f20",
   "metadata": {},
   "outputs": [
    {
     "name": "stdout",
     "output_type": "stream",
     "text": [
      "\n",
      "On Train Data:\n",
      "kNN ROC:0.9821, precision @ rank n:0.5631\n"
     ]
    }
   ],
   "source": [
    "# 评估预测结果\n",
    "\n",
    "print(\"\\nOn Train Data:\")\n",
    "evaluate_print(clf_name, y_train, y_train_scores)\n"
   ]
  },
  {
   "cell_type": "code",
   "execution_count": 16,
   "id": "57d46044",
   "metadata": {},
   "outputs": [
    {
     "data": {
      "text/plain": [
       "array([101.46113513, 102.45021876,  82.85831271, ...,  77.14343609,\n",
       "        64.97827069,  73.8166609 ])"
      ]
     },
     "execution_count": 16,
     "metadata": {},
     "output_type": "execute_result"
    }
   ],
   "source": [
    "y_train_scores"
   ]
  },
  {
   "cell_type": "code",
   "execution_count": 17,
   "id": "3fe3dd5b",
   "metadata": {},
   "outputs": [],
   "source": [
    "y_train_pred = clf.labels_  # 返回训练数据上的分类标签 (0: 正常值, 1: 异常值)"
   ]
  },
  {
   "cell_type": "code",
   "execution_count": 18,
   "id": "d4f9d85a",
   "metadata": {},
   "outputs": [
    {
     "data": {
      "text/plain": [
       "array([0, 0, 0, ..., 0, 0, 0])"
      ]
     },
     "execution_count": 18,
     "metadata": {},
     "output_type": "execute_result"
    }
   ],
   "source": [
    "y_train_pred"
   ]
  },
  {
   "cell_type": "code",
   "execution_count": 19,
   "id": "acd12ff8",
   "metadata": {},
   "outputs": [
    {
     "data": {
      "text/plain": [
       "55677"
      ]
     },
     "execution_count": 19,
     "metadata": {},
     "output_type": "execute_result"
    }
   ],
   "source": [
    "y_train_pred.sum()"
   ]
  },
  {
   "cell_type": "code",
   "execution_count": 20,
   "id": "d898392b",
   "metadata": {},
   "outputs": [],
   "source": [
    "df_pred = pd.DataFrame()\n",
    "df_pred['y_train'] = y_train\n",
    "df_pred['y_train_pred'] = y_train_pred\n",
    "df_pred['y_train_scores'] = y_train_scores"
   ]
  },
  {
   "cell_type": "code",
   "execution_count": 21,
   "id": "fcaf8c1d",
   "metadata": {},
   "outputs": [
    {
     "data": {
      "text/html": [
       "<div>\n",
       "<style scoped>\n",
       "    .dataframe tbody tr th:only-of-type {\n",
       "        vertical-align: middle;\n",
       "    }\n",
       "\n",
       "    .dataframe tbody tr th {\n",
       "        vertical-align: top;\n",
       "    }\n",
       "\n",
       "    .dataframe thead th {\n",
       "        text-align: right;\n",
       "    }\n",
       "</style>\n",
       "<table border=\"1\" class=\"dataframe\">\n",
       "  <thead>\n",
       "    <tr style=\"text-align: right;\">\n",
       "      <th></th>\n",
       "      <th>y_train</th>\n",
       "      <th>y_train_pred</th>\n",
       "      <th>y_train_scores</th>\n",
       "    </tr>\n",
       "  </thead>\n",
       "  <tbody>\n",
       "    <tr>\n",
       "      <th>0</th>\n",
       "      <td>0</td>\n",
       "      <td>0</td>\n",
       "      <td>101.461135</td>\n",
       "    </tr>\n",
       "    <tr>\n",
       "      <th>1</th>\n",
       "      <td>0</td>\n",
       "      <td>0</td>\n",
       "      <td>102.450219</td>\n",
       "    </tr>\n",
       "    <tr>\n",
       "      <th>2</th>\n",
       "      <td>0</td>\n",
       "      <td>0</td>\n",
       "      <td>82.858313</td>\n",
       "    </tr>\n",
       "    <tr>\n",
       "      <th>3</th>\n",
       "      <td>0</td>\n",
       "      <td>0</td>\n",
       "      <td>101.540032</td>\n",
       "    </tr>\n",
       "    <tr>\n",
       "      <th>4</th>\n",
       "      <td>0</td>\n",
       "      <td>0</td>\n",
       "      <td>78.125772</td>\n",
       "    </tr>\n",
       "  </tbody>\n",
       "</table>\n",
       "</div>"
      ],
      "text/plain": [
       "   y_train  y_train_pred  y_train_scores\n",
       "0        0             0      101.461135\n",
       "1        0             0      102.450219\n",
       "2        0             0       82.858313\n",
       "3        0             0      101.540032\n",
       "4        0             0       78.125772"
      ]
     },
     "execution_count": 21,
     "metadata": {},
     "output_type": "execute_result"
    }
   ],
   "source": [
    "df_pred.head()"
   ]
  },
  {
   "cell_type": "code",
   "execution_count": 22,
   "id": "9043a79b",
   "metadata": {},
   "outputs": [
    {
     "name": "stdout",
     "output_type": "stream",
     "text": [
      "103\n",
      "55677\n"
     ]
    }
   ],
   "source": [
    "print(df_pred.y_train.sum())\n",
    "print(df_pred.y_train_pred.sum())"
   ]
  },
  {
   "cell_type": "code",
   "execution_count": 23,
   "id": "d156677f",
   "metadata": {},
   "outputs": [],
   "source": [
    "df_pred['pred_rank'] = df_pred['y_train_scores'].rank(ascending=False, method='first')"
   ]
  },
  {
   "cell_type": "code",
   "execution_count": 24,
   "id": "f45467e0",
   "metadata": {},
   "outputs": [
    {
     "data": {
      "text/html": [
       "<div>\n",
       "<style scoped>\n",
       "    .dataframe tbody tr th:only-of-type {\n",
       "        vertical-align: middle;\n",
       "    }\n",
       "\n",
       "    .dataframe tbody tr th {\n",
       "        vertical-align: top;\n",
       "    }\n",
       "\n",
       "    .dataframe thead th {\n",
       "        text-align: right;\n",
       "    }\n",
       "</style>\n",
       "<table border=\"1\" class=\"dataframe\">\n",
       "  <thead>\n",
       "    <tr style=\"text-align: right;\">\n",
       "      <th></th>\n",
       "      <th>y_train</th>\n",
       "      <th>y_train_pred</th>\n",
       "      <th>y_train_scores</th>\n",
       "      <th>pred_rank</th>\n",
       "    </tr>\n",
       "  </thead>\n",
       "  <tbody>\n",
       "    <tr>\n",
       "      <th>345451</th>\n",
       "      <td>1</td>\n",
       "      <td>1</td>\n",
       "      <td>893.718561</td>\n",
       "      <td>1.0</td>\n",
       "    </tr>\n",
       "  </tbody>\n",
       "</table>\n",
       "</div>"
      ],
      "text/plain": [
       "        y_train  y_train_pred  y_train_scores  pred_rank\n",
       "345451        1             1      893.718561        1.0"
      ]
     },
     "execution_count": 24,
     "metadata": {},
     "output_type": "execute_result"
    }
   ],
   "source": [
    "df_pred[df_pred.pred_rank == df_pred.pred_rank.min()]"
   ]
  },
  {
   "cell_type": "code",
   "execution_count": 25,
   "id": "29da4834",
   "metadata": {},
   "outputs": [
    {
     "data": {
      "text/plain": [
       "55677"
      ]
     },
     "execution_count": 25,
     "metadata": {},
     "output_type": "execute_result"
    }
   ],
   "source": [
    "df_pred[df_pred.pred_rank <= 55677]['y_train_pred'].sum()"
   ]
  },
  {
   "cell_type": "code",
   "execution_count": 26,
   "id": "1cc484b8",
   "metadata": {},
   "outputs": [
    {
     "data": {
      "text/plain": [
       "63"
      ]
     },
     "execution_count": 26,
     "metadata": {},
     "output_type": "execute_result"
    }
   ],
   "source": [
    "df_pred[df_pred.pred_rank <= 200]['y_train'].sum()"
   ]
  },
  {
   "cell_type": "code",
   "execution_count": 27,
   "id": "387ec0d8",
   "metadata": {},
   "outputs": [
    {
     "data": {
      "text/plain": [
       "57"
      ]
     },
     "execution_count": 27,
     "metadata": {},
     "output_type": "execute_result"
    }
   ],
   "source": [
    "df_pred[df_pred.pred_rank <= 100]['y_train'].sum()"
   ]
  },
  {
   "cell_type": "code",
   "execution_count": null,
   "id": "0d1b50e2",
   "metadata": {},
   "outputs": [],
   "source": []
  },
  {
   "cell_type": "code",
   "execution_count": null,
   "id": "540ae00a",
   "metadata": {},
   "outputs": [],
   "source": []
  },
  {
   "cell_type": "code",
   "execution_count": null,
   "id": "205129b1",
   "metadata": {},
   "outputs": [],
   "source": []
  },
  {
   "cell_type": "code",
   "execution_count": null,
   "id": "cdc8686d",
   "metadata": {},
   "outputs": [],
   "source": []
  },
  {
   "cell_type": "code",
   "execution_count": null,
   "id": "5be7dc91",
   "metadata": {},
   "outputs": [],
   "source": []
  },
  {
   "cell_type": "code",
   "execution_count": 28,
   "id": "7c72dbbf",
   "metadata": {},
   "outputs": [],
   "source": [
    "from sklearn.metrics import precision_score, recall_score, f1_score"
   ]
  },
  {
   "cell_type": "code",
   "execution_count": 29,
   "id": "cbafa846",
   "metadata": {},
   "outputs": [
    {
     "name": "stdout",
     "output_type": "stream",
     "text": [
      "0.0018140345205381037\n",
      "0.9805825242718447\n",
      "0.0036213696665471497\n"
     ]
    }
   ],
   "source": [
    "precision = precision_score(y_train, y_train_pred, average='binary')\n",
    "recall = recall_score(y_train, y_train_pred, average='binary')\n",
    "f1score = f1_score(y_train, y_train_pred, average='binary')\n",
    " \n",
    "print(precision)\n",
    "print(recall)\n",
    "print(f1score)"
   ]
  },
  {
   "cell_type": "code",
   "execution_count": 30,
   "id": "9499cd48",
   "metadata": {},
   "outputs": [
    {
     "data": {
      "text/plain": [
       "IForest(behaviour='old', bootstrap=False, contamination=0.1, max_features=1.0,\n",
       "    max_samples='auto', n_estimators=100, n_jobs=1, random_state=None,\n",
       "    verbose=0)"
      ]
     },
     "execution_count": 30,
     "metadata": {},
     "output_type": "execute_result"
    }
   ],
   "source": [
    "# train IForest detector\n",
    "from pyod.models.iforest import IForest\n",
    "clf_name = 'IForest'\n",
    "clf = IForest()\n",
    "clf.fit(x_train)"
   ]
  },
  {
   "cell_type": "code",
   "execution_count": 31,
   "id": "83304507",
   "metadata": {},
   "outputs": [],
   "source": [
    "y_train_pred = clf.labels_  # binary labels (0: inliers, 1: outliers)\n",
    "y_train_scores = clf.decision_scores_  # raw outlier scores"
   ]
  },
  {
   "cell_type": "code",
   "execution_count": 32,
   "id": "759bdd5e",
   "metadata": {},
   "outputs": [
    {
     "name": "stdout",
     "output_type": "stream",
     "text": [
      "0.0018140345205381037\n",
      "0.9805825242718447\n",
      "0.0036213696665471497\n"
     ]
    }
   ],
   "source": [
    "precision = precision_score(y_train, y_train_pred, average='binary')\n",
    "recall = recall_score(y_train, y_train_pred, average='binary')\n",
    "f1score = f1_score(y_train, y_train_pred, average='binary')\n",
    " \n",
    "print(precision)\n",
    "print(recall)\n",
    "print(f1score)"
   ]
  },
  {
   "cell_type": "code",
   "execution_count": 33,
   "id": "812ce132",
   "metadata": {},
   "outputs": [],
   "source": [
    "from pyod.models.lof import LOF\n",
    "from pyod.models.abod import ABOD\n",
    "from pyod.models.cblof import CBLOF\n",
    "from pyod.models.feature_bagging import FeatureBagging\n",
    "from pyod.models.hbos import HBOS\n",
    "from pyod.models.iforest import IForest\n",
    "from pyod.models.knn import KNN\n",
    "from pyod.models.lof import LOF\n",
    "from pyod.models.mcd import MCD\n",
    "from pyod.models.pca import PCA\n",
    "from pyod.models.lscp import LSCP\n",
    "from pyod.models.ocsvm import OCSVM"
   ]
  },
  {
   "cell_type": "code",
   "execution_count": 34,
   "id": "4a0d8ca7",
   "metadata": {},
   "outputs": [
    {
     "data": {
      "text/plain": [
       "0.0002"
      ]
     },
     "execution_count": 34,
     "metadata": {},
     "output_type": "execute_result"
    }
   ],
   "source": [
    "100/500000.00"
   ]
  },
  {
   "cell_type": "code",
   "execution_count": 35,
   "id": "c8a5b28a",
   "metadata": {},
   "outputs": [
    {
     "name": "stdout",
     "output_type": "stream",
     "text": [
      "Model 1 Angle-based Outlier Detector (ABOD)\n",
      "Model 2 Cluster-based Local Outlier Factor (CBLOF)\n",
      "Model 3 Feature Bagging\n",
      "Model 4 Histogram-base Outlier Detection (HBOS)\n",
      "Model 5 Isolation Forest\n",
      "Model 6 K Nearest Neighbors (KNN)\n",
      "Model 7 Average KNN\n",
      "Model 8 Local Outlier Factor (LOF)\n",
      "Model 9 Minimum Covariance Determinant (MCD)\n",
      "Model 10 One-class SVM (OCSVM)\n",
      "Model 11 Principal Component Analysis (PCA)\n",
      "Model 12 Locally Selective Combination (LSCP)\n"
     ]
    }
   ],
   "source": [
    "#设定异常值比例\n",
    "outliers_fraction = 0.0002\n",
    " \n",
    "# 初始化 LSCP 探测集\n",
    "detector_list = [LOF(n_neighbors=5), LOF(n_neighbors=10), LOF(n_neighbors=15),\n",
    "                 LOF(n_neighbors=20), LOF(n_neighbors=25), LOF(n_neighbors=30),\n",
    "                 LOF(n_neighbors=35), LOF(n_neighbors=40), LOF(n_neighbors=45),\n",
    "                 LOF(n_neighbors=50)]\n",
    "classifiers = {\n",
    "    'Angle-based Outlier Detector (ABOD)':\n",
    "        ABOD(contamination=outliers_fraction),\n",
    "    'Cluster-based Local Outlier Factor (CBLOF)':\n",
    "        CBLOF(contamination=outliers_fraction,\n",
    "              check_estimator=False, random_state=0),\n",
    "    'Feature Bagging':\n",
    "        FeatureBagging(LOF(n_neighbors=35),\n",
    "                       contamination=outliers_fraction,\n",
    "                       random_state=0),\n",
    "    'Histogram-base Outlier Detection (HBOS)': HBOS(\n",
    "        contamination=outliers_fraction),\n",
    "    'Isolation Forest': IForest(contamination=outliers_fraction,\n",
    "                                random_state=0),\n",
    "    'K Nearest Neighbors (KNN)': KNN(\n",
    "        contamination=outliers_fraction),\n",
    "    'Average KNN': KNN(method='mean',\n",
    "                       contamination=outliers_fraction),\n",
    "    'Local Outlier Factor (LOF)':\n",
    "        LOF(n_neighbors=35, contamination=outliers_fraction),\n",
    "    'Minimum Covariance Determinant (MCD)': MCD(\n",
    "        contamination=outliers_fraction, random_state=0),\n",
    "    'One-class SVM (OCSVM)': OCSVM(contamination=outliers_fraction),\n",
    "    'Principal Component Analysis (PCA)': PCA(\n",
    "        contamination=outliers_fraction, random_state=0),\n",
    "    'Locally Selective Combination (LSCP)': LSCP(\n",
    "        detector_list, contamination=outliers_fraction,\n",
    "        random_state=0)\n",
    "}\n",
    " \n",
    "for i, clf in enumerate(classifiers.keys()):\n",
    "    print('Model', i + 1, clf)"
   ]
  },
  {
   "cell_type": "code",
   "execution_count": 36,
   "id": "8b616780",
   "metadata": {},
   "outputs": [],
   "source": [
    "import matplotlib.pyplot as plt"
   ]
  },
  {
   "cell_type": "code",
   "execution_count": null,
   "id": "15a1b38e",
   "metadata": {},
   "outputs": [],
   "source": []
  },
  {
   "cell_type": "code",
   "execution_count": null,
   "id": "859687f3",
   "metadata": {},
   "outputs": [
    {
     "name": "stderr",
     "output_type": "stream",
     "text": [
      "/data1/liutao6/anaconda3/envs/store_risk/lib/python3.10/site-packages/numpy/core/fromnumeric.py:3723: RuntimeWarning: Degrees of freedom <= 0 for slice\n",
      "  return _methods._var(a, axis=axis, dtype=dtype, out=out, ddof=ddof,\n",
      "/data1/liutao6/anaconda3/envs/store_risk/lib/python3.10/site-packages/numpy/core/_methods.py:222: RuntimeWarning: invalid value encountered in true_divide\n",
      "  arrmean = um.true_divide(arrmean, div, out=arrmean, casting='unsafe',\n",
      "/data1/liutao6/anaconda3/envs/store_risk/lib/python3.10/site-packages/numpy/core/_methods.py:254: RuntimeWarning: invalid value encountered in double_scalars\n",
      "  ret = ret.dtype.type(ret / rcount)\n",
      "/data1/liutao6/anaconda3/envs/store_risk/lib/python3.10/site-packages/numpy/core/fromnumeric.py:3723: RuntimeWarning: Degrees of freedom <= 0 for slice\n",
      "  return _methods._var(a, axis=axis, dtype=dtype, out=out, ddof=ddof,\n",
      "/data1/liutao6/anaconda3/envs/store_risk/lib/python3.10/site-packages/numpy/core/_methods.py:222: RuntimeWarning: invalid value encountered in true_divide\n",
      "  arrmean = um.true_divide(arrmean, div, out=arrmean, casting='unsafe',\n",
      "/data1/liutao6/anaconda3/envs/store_risk/lib/python3.10/site-packages/numpy/core/_methods.py:254: RuntimeWarning: invalid value encountered in double_scalars\n",
      "  ret = ret.dtype.type(ret / rcount)\n",
      "/data1/liutao6/anaconda3/envs/store_risk/lib/python3.10/site-packages/numpy/core/fromnumeric.py:3723: RuntimeWarning: Degrees of freedom <= 0 for slice\n",
      "  return _methods._var(a, axis=axis, dtype=dtype, out=out, ddof=ddof,\n",
      "/data1/liutao6/anaconda3/envs/store_risk/lib/python3.10/site-packages/numpy/core/_methods.py:222: RuntimeWarning: invalid value encountered in true_divide\n",
      "  arrmean = um.true_divide(arrmean, div, out=arrmean, casting='unsafe',\n",
      "/data1/liutao6/anaconda3/envs/store_risk/lib/python3.10/site-packages/numpy/core/_methods.py:254: RuntimeWarning: invalid value encountered in double_scalars\n",
      "  ret = ret.dtype.type(ret / rcount)\n"
     ]
    },
    {
     "name": "stdout",
     "output_type": "stream",
     "text": [
      "Angle-based Outlier Detector (ABOD)\n",
      "0.0018140345205381037\n",
      "0.9805825242718447\n",
      "0.0036213696665471497\n",
      "Cluster-based Local Outlier Factor (CBLOF)\n",
      "0.0018140345205381037\n",
      "0.9805825242718447\n",
      "0.0036213696665471497\n"
     ]
    }
   ],
   "source": [
    "for i, (clf_name, clf) in enumerate(classifiers.items()):\n",
    "    #训练数据\n",
    "    clf.fit(x_train)\n",
    "    # 预测异常值分数\n",
    "    scores_pred = clf.decision_function(x_train) * -1\n",
    "    # 预测异常值和正常值的数据\n",
    "    y_pred = clf.predict(x_train)\n",
    "    y_train_scores = clf.decision_scores_\n",
    "    \n",
    "    precision = precision_score(y_train, y_train_pred, average='binary')\n",
    "    recall = recall_score(y_train, y_train_pred, average='binary')\n",
    "    f1score = f1_score(y_train, y_train_pred, average='binary')\n",
    "    \n",
    "    print(clf_name)\n",
    "    print(precision)\n",
    "    print(recall)\n",
    "    print(f1score)\n",
    "\n",
    " "
   ]
  },
  {
   "cell_type": "code",
   "execution_count": null,
   "id": "7816be66",
   "metadata": {},
   "outputs": [],
   "source": []
  }
 ],
 "metadata": {
  "kernelspec": {
   "display_name": "Python [conda env:store_risk]",
   "language": "python",
   "name": "conda-env-store_risk-py"
  },
  "language_info": {
   "codemirror_mode": {
    "name": "ipython",
    "version": 3
   },
   "file_extension": ".py",
   "mimetype": "text/x-python",
   "name": "python",
   "nbconvert_exporter": "python",
   "pygments_lexer": "ipython3",
   "version": "3.10.4"
  }
 },
 "nbformat": 4,
 "nbformat_minor": 5
}
